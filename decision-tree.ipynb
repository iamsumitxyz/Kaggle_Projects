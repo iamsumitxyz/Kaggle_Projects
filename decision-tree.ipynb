{
 "cells": [
  {
   "cell_type": "code",
   "execution_count": 1,
   "id": "9749775f",
   "metadata": {
    "_cell_guid": "b1076dfc-b9ad-4769-8c92-a6c4dae69d19",
    "_uuid": "8f2839f25d086af736a60e9eeb907d3b93b6e0e5",
    "execution": {
     "iopub.execute_input": "2024-03-03T19:39:47.047821Z",
     "iopub.status.busy": "2024-03-03T19:39:47.047469Z",
     "iopub.status.idle": "2024-03-03T19:39:47.863670Z",
     "shell.execute_reply": "2024-03-03T19:39:47.863018Z"
    },
    "papermill": {
     "duration": 0.825984,
     "end_time": "2024-03-03T19:39:47.865701",
     "exception": false,
     "start_time": "2024-03-03T19:39:47.039717",
     "status": "completed"
    },
    "tags": []
   },
   "outputs": [
    {
     "name": "stdout",
     "output_type": "stream",
     "text": [
      "/kaggle/input/loan-status-prediction/loan_data.csv\n"
     ]
    }
   ],
   "source": [
    "# This Python 3 environment comes with many helpful analytics libraries installed\n",
    "# It is defined by the kaggle/python Docker image: https://github.com/kaggle/docker-python\n",
    "# For example, here's several helpful packages to load\n",
    "\n",
    "import numpy as np # linear algebra\n",
    "import pandas as pd # data processing, CSV file I/O (e.g. pd.read_csv)\n",
    "\n",
    "# Input data files are available in the read-only \"../input/\" directory\n",
    "# For example, running this (by clicking run or pressing Shift+Enter) will list all files under the input directory\n",
    "\n",
    "import os\n",
    "for dirname, _, filenames in os.walk('/kaggle/input'):\n",
    "    for filename in filenames:\n",
    "        print(os.path.join(dirname, filename))\n",
    "\n",
    "# You can write up to 20GB to the current directory (/kaggle/working/) that gets preserved as output when you create a version using \"Save & Run All\" \n",
    "# You can also write temporary files to /kaggle/temp/, but they won't be saved outside of the current session"
   ]
  },
  {
   "cell_type": "markdown",
   "id": "e72b10a6",
   "metadata": {
    "papermill": {
     "duration": 0.005347,
     "end_time": "2024-03-03T19:39:47.876962",
     "exception": false,
     "start_time": "2024-03-03T19:39:47.871615",
     "status": "completed"
    },
    "tags": []
   },
   "source": [
    "Loading the data set"
   ]
  },
  {
   "cell_type": "code",
   "execution_count": 2,
   "id": "46419737",
   "metadata": {
    "execution": {
     "iopub.execute_input": "2024-03-03T19:39:47.890041Z",
     "iopub.status.busy": "2024-03-03T19:39:47.889235Z",
     "iopub.status.idle": "2024-03-03T19:39:47.922935Z",
     "shell.execute_reply": "2024-03-03T19:39:47.921925Z"
    },
    "papermill": {
     "duration": 0.042197,
     "end_time": "2024-03-03T19:39:47.924744",
     "exception": false,
     "start_time": "2024-03-03T19:39:47.882547",
     "status": "completed"
    },
    "tags": []
   },
   "outputs": [
    {
     "data": {
      "text/html": [
       "<div>\n",
       "<style scoped>\n",
       "    .dataframe tbody tr th:only-of-type {\n",
       "        vertical-align: middle;\n",
       "    }\n",
       "\n",
       "    .dataframe tbody tr th {\n",
       "        vertical-align: top;\n",
       "    }\n",
       "\n",
       "    .dataframe thead th {\n",
       "        text-align: right;\n",
       "    }\n",
       "</style>\n",
       "<table border=\"1\" class=\"dataframe\">\n",
       "  <thead>\n",
       "    <tr style=\"text-align: right;\">\n",
       "      <th></th>\n",
       "      <th>Loan_ID</th>\n",
       "      <th>Gender</th>\n",
       "      <th>Married</th>\n",
       "      <th>Dependents</th>\n",
       "      <th>Education</th>\n",
       "      <th>Self_Employed</th>\n",
       "      <th>ApplicantIncome</th>\n",
       "      <th>CoapplicantIncome</th>\n",
       "      <th>LoanAmount</th>\n",
       "      <th>Loan_Amount_Term</th>\n",
       "      <th>Credit_History</th>\n",
       "      <th>Property_Area</th>\n",
       "      <th>Loan_Status</th>\n",
       "    </tr>\n",
       "  </thead>\n",
       "  <tbody>\n",
       "    <tr>\n",
       "      <th>0</th>\n",
       "      <td>LP001003</td>\n",
       "      <td>Male</td>\n",
       "      <td>Yes</td>\n",
       "      <td>1</td>\n",
       "      <td>Graduate</td>\n",
       "      <td>No</td>\n",
       "      <td>4583</td>\n",
       "      <td>1508.0</td>\n",
       "      <td>128.0</td>\n",
       "      <td>360.0</td>\n",
       "      <td>1.0</td>\n",
       "      <td>Rural</td>\n",
       "      <td>N</td>\n",
       "    </tr>\n",
       "    <tr>\n",
       "      <th>1</th>\n",
       "      <td>LP001005</td>\n",
       "      <td>Male</td>\n",
       "      <td>Yes</td>\n",
       "      <td>0</td>\n",
       "      <td>Graduate</td>\n",
       "      <td>Yes</td>\n",
       "      <td>3000</td>\n",
       "      <td>0.0</td>\n",
       "      <td>66.0</td>\n",
       "      <td>360.0</td>\n",
       "      <td>1.0</td>\n",
       "      <td>Urban</td>\n",
       "      <td>Y</td>\n",
       "    </tr>\n",
       "    <tr>\n",
       "      <th>2</th>\n",
       "      <td>LP001006</td>\n",
       "      <td>Male</td>\n",
       "      <td>Yes</td>\n",
       "      <td>0</td>\n",
       "      <td>Not Graduate</td>\n",
       "      <td>No</td>\n",
       "      <td>2583</td>\n",
       "      <td>2358.0</td>\n",
       "      <td>120.0</td>\n",
       "      <td>360.0</td>\n",
       "      <td>1.0</td>\n",
       "      <td>Urban</td>\n",
       "      <td>Y</td>\n",
       "    </tr>\n",
       "    <tr>\n",
       "      <th>3</th>\n",
       "      <td>LP001008</td>\n",
       "      <td>Male</td>\n",
       "      <td>No</td>\n",
       "      <td>0</td>\n",
       "      <td>Graduate</td>\n",
       "      <td>No</td>\n",
       "      <td>6000</td>\n",
       "      <td>0.0</td>\n",
       "      <td>141.0</td>\n",
       "      <td>360.0</td>\n",
       "      <td>1.0</td>\n",
       "      <td>Urban</td>\n",
       "      <td>Y</td>\n",
       "    </tr>\n",
       "    <tr>\n",
       "      <th>4</th>\n",
       "      <td>LP001013</td>\n",
       "      <td>Male</td>\n",
       "      <td>Yes</td>\n",
       "      <td>0</td>\n",
       "      <td>Not Graduate</td>\n",
       "      <td>No</td>\n",
       "      <td>2333</td>\n",
       "      <td>1516.0</td>\n",
       "      <td>95.0</td>\n",
       "      <td>360.0</td>\n",
       "      <td>1.0</td>\n",
       "      <td>Urban</td>\n",
       "      <td>Y</td>\n",
       "    </tr>\n",
       "  </tbody>\n",
       "</table>\n",
       "</div>"
      ],
      "text/plain": [
       "    Loan_ID Gender Married Dependents     Education Self_Employed  \\\n",
       "0  LP001003   Male     Yes          1      Graduate            No   \n",
       "1  LP001005   Male     Yes          0      Graduate           Yes   \n",
       "2  LP001006   Male     Yes          0  Not Graduate            No   \n",
       "3  LP001008   Male      No          0      Graduate            No   \n",
       "4  LP001013   Male     Yes          0  Not Graduate            No   \n",
       "\n",
       "   ApplicantIncome  CoapplicantIncome  LoanAmount  Loan_Amount_Term  \\\n",
       "0             4583             1508.0       128.0             360.0   \n",
       "1             3000                0.0        66.0             360.0   \n",
       "2             2583             2358.0       120.0             360.0   \n",
       "3             6000                0.0       141.0             360.0   \n",
       "4             2333             1516.0        95.0             360.0   \n",
       "\n",
       "   Credit_History Property_Area Loan_Status  \n",
       "0             1.0         Rural           N  \n",
       "1             1.0         Urban           Y  \n",
       "2             1.0         Urban           Y  \n",
       "3             1.0         Urban           Y  \n",
       "4             1.0         Urban           Y  "
      ]
     },
     "execution_count": 2,
     "metadata": {},
     "output_type": "execute_result"
    }
   ],
   "source": [
    "\n",
    "\n",
    "df = pd.read_csv(\"/kaggle/input/loan-status-prediction/loan_data.csv\")\n",
    "\n",
    "df.head()"
   ]
  },
  {
   "cell_type": "code",
   "execution_count": 3,
   "id": "90d6afd7",
   "metadata": {
    "execution": {
     "iopub.execute_input": "2024-03-03T19:39:47.938118Z",
     "iopub.status.busy": "2024-03-03T19:39:47.937839Z",
     "iopub.status.idle": "2024-03-03T19:39:47.947981Z",
     "shell.execute_reply": "2024-03-03T19:39:47.947096Z"
    },
    "papermill": {
     "duration": 0.018977,
     "end_time": "2024-03-03T19:39:47.949832",
     "exception": false,
     "start_time": "2024-03-03T19:39:47.930855",
     "status": "completed"
    },
    "tags": []
   },
   "outputs": [],
   "source": [
    "df = df.drop(['Loan_ID'],axis = 1)"
   ]
  },
  {
   "cell_type": "code",
   "execution_count": 4,
   "id": "6daf49bf",
   "metadata": {
    "execution": {
     "iopub.execute_input": "2024-03-03T19:39:47.964017Z",
     "iopub.status.busy": "2024-03-03T19:39:47.963683Z",
     "iopub.status.idle": "2024-03-03T19:39:47.969880Z",
     "shell.execute_reply": "2024-03-03T19:39:47.968835Z"
    },
    "papermill": {
     "duration": 0.015497,
     "end_time": "2024-03-03T19:39:47.971767",
     "exception": false,
     "start_time": "2024-03-03T19:39:47.956270",
     "status": "completed"
    },
    "tags": []
   },
   "outputs": [
    {
     "data": {
      "text/plain": [
       "(381, 12)"
      ]
     },
     "execution_count": 4,
     "metadata": {},
     "output_type": "execute_result"
    }
   ],
   "source": [
    "df.shape"
   ]
  },
  {
   "cell_type": "code",
   "execution_count": 5,
   "id": "e10a01f0",
   "metadata": {
    "execution": {
     "iopub.execute_input": "2024-03-03T19:39:47.986281Z",
     "iopub.status.busy": "2024-03-03T19:39:47.985953Z",
     "iopub.status.idle": "2024-03-03T19:39:48.011057Z",
     "shell.execute_reply": "2024-03-03T19:39:48.010072Z"
    },
    "papermill": {
     "duration": 0.03438,
     "end_time": "2024-03-03T19:39:48.013043",
     "exception": false,
     "start_time": "2024-03-03T19:39:47.978663",
     "status": "completed"
    },
    "tags": []
   },
   "outputs": [
    {
     "name": "stdout",
     "output_type": "stream",
     "text": [
      "<class 'pandas.core.frame.DataFrame'>\n",
      "RangeIndex: 381 entries, 0 to 380\n",
      "Data columns (total 12 columns):\n",
      " #   Column             Non-Null Count  Dtype  \n",
      "---  ------             --------------  -----  \n",
      " 0   Gender             376 non-null    object \n",
      " 1   Married            381 non-null    object \n",
      " 2   Dependents         373 non-null    object \n",
      " 3   Education          381 non-null    object \n",
      " 4   Self_Employed      360 non-null    object \n",
      " 5   ApplicantIncome    381 non-null    int64  \n",
      " 6   CoapplicantIncome  381 non-null    float64\n",
      " 7   LoanAmount         381 non-null    float64\n",
      " 8   Loan_Amount_Term   370 non-null    float64\n",
      " 9   Credit_History     351 non-null    float64\n",
      " 10  Property_Area      381 non-null    object \n",
      " 11  Loan_Status        381 non-null    object \n",
      "dtypes: float64(4), int64(1), object(7)\n",
      "memory usage: 35.8+ KB\n"
     ]
    }
   ],
   "source": [
    "df.info()"
   ]
  },
  {
   "cell_type": "code",
   "execution_count": 6,
   "id": "dcd93e8b",
   "metadata": {
    "execution": {
     "iopub.execute_input": "2024-03-03T19:39:48.026476Z",
     "iopub.status.busy": "2024-03-03T19:39:48.026159Z",
     "iopub.status.idle": "2024-03-03T19:39:48.033923Z",
     "shell.execute_reply": "2024-03-03T19:39:48.032829Z"
    },
    "papermill": {
     "duration": 0.016371,
     "end_time": "2024-03-03T19:39:48.035669",
     "exception": false,
     "start_time": "2024-03-03T19:39:48.019298",
     "status": "completed"
    },
    "tags": []
   },
   "outputs": [
    {
     "data": {
      "text/plain": [
       "Gender                5\n",
       "Married               0\n",
       "Dependents            8\n",
       "Education             0\n",
       "Self_Employed        21\n",
       "ApplicantIncome       0\n",
       "CoapplicantIncome     0\n",
       "LoanAmount            0\n",
       "Loan_Amount_Term     11\n",
       "Credit_History       30\n",
       "Property_Area         0\n",
       "Loan_Status           0\n",
       "dtype: int64"
      ]
     },
     "execution_count": 6,
     "metadata": {},
     "output_type": "execute_result"
    }
   ],
   "source": [
    "df.isnull().sum()"
   ]
  },
  {
   "cell_type": "code",
   "execution_count": 7,
   "id": "6e2d3275",
   "metadata": {
    "execution": {
     "iopub.execute_input": "2024-03-03T19:39:48.050770Z",
     "iopub.status.busy": "2024-03-03T19:39:48.050121Z",
     "iopub.status.idle": "2024-03-03T19:39:48.059230Z",
     "shell.execute_reply": "2024-03-03T19:39:48.057865Z"
    },
    "papermill": {
     "duration": 0.018895,
     "end_time": "2024-03-03T19:39:48.061694",
     "exception": false,
     "start_time": "2024-03-03T19:39:48.042799",
     "status": "completed"
    },
    "tags": []
   },
   "outputs": [],
   "source": [
    "df = df.dropna(subset=['Gender','Dependents','Self_Employed','Loan_Amount_Term','Credit_History'])"
   ]
  },
  {
   "cell_type": "code",
   "execution_count": 8,
   "id": "46f13d05",
   "metadata": {
    "execution": {
     "iopub.execute_input": "2024-03-03T19:39:48.076495Z",
     "iopub.status.busy": "2024-03-03T19:39:48.076162Z",
     "iopub.status.idle": "2024-03-03T19:39:48.084209Z",
     "shell.execute_reply": "2024-03-03T19:39:48.083179Z"
    },
    "papermill": {
     "duration": 0.017738,
     "end_time": "2024-03-03T19:39:48.086030",
     "exception": false,
     "start_time": "2024-03-03T19:39:48.068292",
     "status": "completed"
    },
    "tags": []
   },
   "outputs": [
    {
     "data": {
      "text/plain": [
       "Gender               0\n",
       "Married              0\n",
       "Dependents           0\n",
       "Education            0\n",
       "Self_Employed        0\n",
       "ApplicantIncome      0\n",
       "CoapplicantIncome    0\n",
       "LoanAmount           0\n",
       "Loan_Amount_Term     0\n",
       "Credit_History       0\n",
       "Property_Area        0\n",
       "Loan_Status          0\n",
       "dtype: int64"
      ]
     },
     "execution_count": 8,
     "metadata": {},
     "output_type": "execute_result"
    }
   ],
   "source": [
    "df.isnull().sum()"
   ]
  },
  {
   "cell_type": "code",
   "execution_count": 9,
   "id": "98d8ad2e",
   "metadata": {
    "execution": {
     "iopub.execute_input": "2024-03-03T19:39:48.100216Z",
     "iopub.status.busy": "2024-03-03T19:39:48.099932Z",
     "iopub.status.idle": "2024-03-03T19:39:48.108140Z",
     "shell.execute_reply": "2024-03-03T19:39:48.107175Z"
    },
    "papermill": {
     "duration": 0.017379,
     "end_time": "2024-03-03T19:39:48.109853",
     "exception": false,
     "start_time": "2024-03-03T19:39:48.092474",
     "status": "completed"
    },
    "tags": []
   },
   "outputs": [
    {
     "data": {
      "text/plain": [
       "0    Semiurban\n",
       "Name: Property_Area, dtype: object"
      ]
     },
     "execution_count": 9,
     "metadata": {},
     "output_type": "execute_result"
    }
   ],
   "source": [
    "df['Property_Area'].mode()\n"
   ]
  },
  {
   "cell_type": "markdown",
   "id": "4cf9663b",
   "metadata": {
    "papermill": {
     "duration": 0.006001,
     "end_time": "2024-03-03T19:39:48.122195",
     "exception": false,
     "start_time": "2024-03-03T19:39:48.116194",
     "status": "completed"
    },
    "tags": []
   },
   "source": [
    "converting categorical values to numerical values"
   ]
  },
  {
   "cell_type": "code",
   "execution_count": 10,
   "id": "556b93d7",
   "metadata": {
    "execution": {
     "iopub.execute_input": "2024-03-03T19:39:48.136209Z",
     "iopub.status.busy": "2024-03-03T19:39:48.135909Z",
     "iopub.status.idle": "2024-03-03T19:39:48.142566Z",
     "shell.execute_reply": "2024-03-03T19:39:48.141143Z"
    },
    "papermill": {
     "duration": 0.016128,
     "end_time": "2024-03-03T19:39:48.144700",
     "exception": false,
     "start_time": "2024-03-03T19:39:48.128572",
     "status": "completed"
    },
    "tags": []
   },
   "outputs": [],
   "source": [
    "def cat_to_num(df, c_var):\n",
    "    for i in c_var:\n",
    "        uniques_value = df[i].unique()\n",
    "        df[i].replace(uniques_value, [0, 1], inplace=True)\n",
    "\n",
    "    for i in ['Property_Area']:\n",
    "        uniques_value = df[i].unique()\n",
    "        df[i].replace(uniques_value, [0, 1, 3], inplace=True)\n",
    "    for i in ['Dependents']:\n",
    "        unique_values = df[i].unique()\n",
    "        df[i].replace(unique_values, [0,1,2,3],inplace = True)"
   ]
  },
  {
   "cell_type": "code",
   "execution_count": 11,
   "id": "9939e4e8",
   "metadata": {
    "execution": {
     "iopub.execute_input": "2024-03-03T19:39:48.159107Z",
     "iopub.status.busy": "2024-03-03T19:39:48.158807Z",
     "iopub.status.idle": "2024-03-03T19:39:48.171209Z",
     "shell.execute_reply": "2024-03-03T19:39:48.170036Z"
    },
    "papermill": {
     "duration": 0.021923,
     "end_time": "2024-03-03T19:39:48.173286",
     "exception": false,
     "start_time": "2024-03-03T19:39:48.151363",
     "status": "completed"
    },
    "tags": []
   },
   "outputs": [
    {
     "name": "stderr",
     "output_type": "stream",
     "text": [
      "/tmp/ipykernel_19/3915073759.py:4: FutureWarning: A value is trying to be set on a copy of a DataFrame or Series through chained assignment using an inplace method.\n",
      "The behavior will change in pandas 3.0. This inplace method will never work because the intermediate object on which we are setting values always behaves as a copy.\n",
      "\n",
      "For example, when doing 'df[col].method(value, inplace=True)', try using 'df.method({col: value}, inplace=True)' or df[col] = df[col].method(value) instead, to perform the operation inplace on the original object.\n",
      "\n",
      "\n",
      "  df[i].replace(uniques_value, [0, 1], inplace=True)\n",
      "/tmp/ipykernel_19/3915073759.py:4: FutureWarning: Downcasting behavior in `replace` is deprecated and will be removed in a future version. To retain the old behavior, explicitly call `result.infer_objects(copy=False)`. To opt-in to the future behavior, set `pd.set_option('future.no_silent_downcasting', True)`\n",
      "  df[i].replace(uniques_value, [0, 1], inplace=True)\n",
      "/tmp/ipykernel_19/3915073759.py:8: FutureWarning: A value is trying to be set on a copy of a DataFrame or Series through chained assignment using an inplace method.\n",
      "The behavior will change in pandas 3.0. This inplace method will never work because the intermediate object on which we are setting values always behaves as a copy.\n",
      "\n",
      "For example, when doing 'df[col].method(value, inplace=True)', try using 'df.method({col: value}, inplace=True)' or df[col] = df[col].method(value) instead, to perform the operation inplace on the original object.\n",
      "\n",
      "\n",
      "  df[i].replace(uniques_value, [0, 1, 3], inplace=True)\n",
      "/tmp/ipykernel_19/3915073759.py:8: FutureWarning: Downcasting behavior in `replace` is deprecated and will be removed in a future version. To retain the old behavior, explicitly call `result.infer_objects(copy=False)`. To opt-in to the future behavior, set `pd.set_option('future.no_silent_downcasting', True)`\n",
      "  df[i].replace(uniques_value, [0, 1, 3], inplace=True)\n",
      "/tmp/ipykernel_19/3915073759.py:11: FutureWarning: A value is trying to be set on a copy of a DataFrame or Series through chained assignment using an inplace method.\n",
      "The behavior will change in pandas 3.0. This inplace method will never work because the intermediate object on which we are setting values always behaves as a copy.\n",
      "\n",
      "For example, when doing 'df[col].method(value, inplace=True)', try using 'df.method({col: value}, inplace=True)' or df[col] = df[col].method(value) instead, to perform the operation inplace on the original object.\n",
      "\n",
      "\n",
      "  df[i].replace(unique_values, [0,1,2,3],inplace = True)\n",
      "/tmp/ipykernel_19/3915073759.py:11: FutureWarning: Downcasting behavior in `replace` is deprecated and will be removed in a future version. To retain the old behavior, explicitly call `result.infer_objects(copy=False)`. To opt-in to the future behavior, set `pd.set_option('future.no_silent_downcasting', True)`\n",
      "  df[i].replace(unique_values, [0,1,2,3],inplace = True)\n"
     ]
    }
   ],
   "source": [
    "c_variables = ['Gender', 'Married', 'Education','Self_Employed', 'Loan_Status']\n",
    "cat_to_num(df,c_variables)"
   ]
  },
  {
   "cell_type": "code",
   "execution_count": 12,
   "id": "b5ea567a",
   "metadata": {
    "execution": {
     "iopub.execute_input": "2024-03-03T19:39:48.187630Z",
     "iopub.status.busy": "2024-03-03T19:39:48.187324Z",
     "iopub.status.idle": "2024-03-03T19:39:48.200284Z",
     "shell.execute_reply": "2024-03-03T19:39:48.199265Z"
    },
    "papermill": {
     "duration": 0.021904,
     "end_time": "2024-03-03T19:39:48.201791",
     "exception": false,
     "start_time": "2024-03-03T19:39:48.179887",
     "status": "completed"
    },
    "tags": []
   },
   "outputs": [
    {
     "data": {
      "text/html": [
       "<div>\n",
       "<style scoped>\n",
       "    .dataframe tbody tr th:only-of-type {\n",
       "        vertical-align: middle;\n",
       "    }\n",
       "\n",
       "    .dataframe tbody tr th {\n",
       "        vertical-align: top;\n",
       "    }\n",
       "\n",
       "    .dataframe thead th {\n",
       "        text-align: right;\n",
       "    }\n",
       "</style>\n",
       "<table border=\"1\" class=\"dataframe\">\n",
       "  <thead>\n",
       "    <tr style=\"text-align: right;\">\n",
       "      <th></th>\n",
       "      <th>Gender</th>\n",
       "      <th>Married</th>\n",
       "      <th>Dependents</th>\n",
       "      <th>Education</th>\n",
       "      <th>Self_Employed</th>\n",
       "      <th>ApplicantIncome</th>\n",
       "      <th>CoapplicantIncome</th>\n",
       "      <th>LoanAmount</th>\n",
       "      <th>Loan_Amount_Term</th>\n",
       "      <th>Credit_History</th>\n",
       "      <th>Property_Area</th>\n",
       "      <th>Loan_Status</th>\n",
       "    </tr>\n",
       "  </thead>\n",
       "  <tbody>\n",
       "    <tr>\n",
       "      <th>0</th>\n",
       "      <td>0</td>\n",
       "      <td>0</td>\n",
       "      <td>0</td>\n",
       "      <td>0</td>\n",
       "      <td>0</td>\n",
       "      <td>4583</td>\n",
       "      <td>1508.0</td>\n",
       "      <td>128.0</td>\n",
       "      <td>360.0</td>\n",
       "      <td>1.0</td>\n",
       "      <td>0</td>\n",
       "      <td>0</td>\n",
       "    </tr>\n",
       "    <tr>\n",
       "      <th>1</th>\n",
       "      <td>0</td>\n",
       "      <td>0</td>\n",
       "      <td>1</td>\n",
       "      <td>0</td>\n",
       "      <td>1</td>\n",
       "      <td>3000</td>\n",
       "      <td>0.0</td>\n",
       "      <td>66.0</td>\n",
       "      <td>360.0</td>\n",
       "      <td>1.0</td>\n",
       "      <td>1</td>\n",
       "      <td>1</td>\n",
       "    </tr>\n",
       "    <tr>\n",
       "      <th>2</th>\n",
       "      <td>0</td>\n",
       "      <td>0</td>\n",
       "      <td>1</td>\n",
       "      <td>1</td>\n",
       "      <td>0</td>\n",
       "      <td>2583</td>\n",
       "      <td>2358.0</td>\n",
       "      <td>120.0</td>\n",
       "      <td>360.0</td>\n",
       "      <td>1.0</td>\n",
       "      <td>1</td>\n",
       "      <td>1</td>\n",
       "    </tr>\n",
       "    <tr>\n",
       "      <th>3</th>\n",
       "      <td>0</td>\n",
       "      <td>1</td>\n",
       "      <td>1</td>\n",
       "      <td>0</td>\n",
       "      <td>0</td>\n",
       "      <td>6000</td>\n",
       "      <td>0.0</td>\n",
       "      <td>141.0</td>\n",
       "      <td>360.0</td>\n",
       "      <td>1.0</td>\n",
       "      <td>1</td>\n",
       "      <td>1</td>\n",
       "    </tr>\n",
       "    <tr>\n",
       "      <th>4</th>\n",
       "      <td>0</td>\n",
       "      <td>0</td>\n",
       "      <td>1</td>\n",
       "      <td>1</td>\n",
       "      <td>0</td>\n",
       "      <td>2333</td>\n",
       "      <td>1516.0</td>\n",
       "      <td>95.0</td>\n",
       "      <td>360.0</td>\n",
       "      <td>1.0</td>\n",
       "      <td>1</td>\n",
       "      <td>1</td>\n",
       "    </tr>\n",
       "  </tbody>\n",
       "</table>\n",
       "</div>"
      ],
      "text/plain": [
       "   Gender  Married  Dependents  Education  Self_Employed  ApplicantIncome  \\\n",
       "0       0        0           0          0              0             4583   \n",
       "1       0        0           1          0              1             3000   \n",
       "2       0        0           1          1              0             2583   \n",
       "3       0        1           1          0              0             6000   \n",
       "4       0        0           1          1              0             2333   \n",
       "\n",
       "   CoapplicantIncome  LoanAmount  Loan_Amount_Term  Credit_History  \\\n",
       "0             1508.0       128.0             360.0             1.0   \n",
       "1                0.0        66.0             360.0             1.0   \n",
       "2             2358.0       120.0             360.0             1.0   \n",
       "3                0.0       141.0             360.0             1.0   \n",
       "4             1516.0        95.0             360.0             1.0   \n",
       "\n",
       "   Property_Area  Loan_Status  \n",
       "0              0            0  \n",
       "1              1            1  \n",
       "2              1            1  \n",
       "3              1            1  \n",
       "4              1            1  "
      ]
     },
     "execution_count": 12,
     "metadata": {},
     "output_type": "execute_result"
    }
   ],
   "source": [
    "df.head()"
   ]
  },
  {
   "cell_type": "markdown",
   "id": "d0581b83",
   "metadata": {
    "papermill": {
     "duration": 0.007654,
     "end_time": "2024-03-03T19:39:48.218460",
     "exception": false,
     "start_time": "2024-03-03T19:39:48.210806",
     "status": "completed"
    },
    "tags": []
   },
   "source": [
    "processing the data into X, y"
   ]
  },
  {
   "cell_type": "code",
   "execution_count": 13,
   "id": "012c24e1",
   "metadata": {
    "execution": {
     "iopub.execute_input": "2024-03-03T19:39:48.234084Z",
     "iopub.status.busy": "2024-03-03T19:39:48.233742Z",
     "iopub.status.idle": "2024-03-03T19:39:48.239228Z",
     "shell.execute_reply": "2024-03-03T19:39:48.237928Z"
    },
    "papermill": {
     "duration": 0.015556,
     "end_time": "2024-03-03T19:39:48.241117",
     "exception": false,
     "start_time": "2024-03-03T19:39:48.225561",
     "status": "completed"
    },
    "tags": []
   },
   "outputs": [],
   "source": [
    "X = df.drop(['Loan_Status'],axis = 1)\n",
    "y = df['Loan_Status']"
   ]
  },
  {
   "cell_type": "code",
   "execution_count": 14,
   "id": "cb44293f",
   "metadata": {
    "execution": {
     "iopub.execute_input": "2024-03-03T19:39:48.256406Z",
     "iopub.status.busy": "2024-03-03T19:39:48.256082Z",
     "iopub.status.idle": "2024-03-03T19:39:48.262488Z",
     "shell.execute_reply": "2024-03-03T19:39:48.261668Z"
    },
    "papermill": {
     "duration": 0.015925,
     "end_time": "2024-03-03T19:39:48.264365",
     "exception": false,
     "start_time": "2024-03-03T19:39:48.248440",
     "status": "completed"
    },
    "tags": []
   },
   "outputs": [
    {
     "data": {
      "text/plain": [
       "((308, 11), (308,))"
      ]
     },
     "execution_count": 14,
     "metadata": {},
     "output_type": "execute_result"
    }
   ],
   "source": [
    "X.shape,y.shape"
   ]
  },
  {
   "cell_type": "code",
   "execution_count": 15,
   "id": "8133357a",
   "metadata": {
    "execution": {
     "iopub.execute_input": "2024-03-03T19:39:48.280316Z",
     "iopub.status.busy": "2024-03-03T19:39:48.279446Z",
     "iopub.status.idle": "2024-03-03T19:39:48.290657Z",
     "shell.execute_reply": "2024-03-03T19:39:48.289563Z"
    },
    "papermill": {
     "duration": 0.021172,
     "end_time": "2024-03-03T19:39:48.292668",
     "exception": false,
     "start_time": "2024-03-03T19:39:48.271496",
     "status": "completed"
    },
    "tags": []
   },
   "outputs": [
    {
     "name": "stdout",
     "output_type": "stream",
     "text": [
      "<class 'pandas.core.frame.DataFrame'>\n",
      "Index: 308 entries, 0 to 380\n",
      "Data columns (total 11 columns):\n",
      " #   Column             Non-Null Count  Dtype  \n",
      "---  ------             --------------  -----  \n",
      " 0   Gender             308 non-null    int64  \n",
      " 1   Married            308 non-null    int64  \n",
      " 2   Dependents         308 non-null    int64  \n",
      " 3   Education          308 non-null    int64  \n",
      " 4   Self_Employed      308 non-null    int64  \n",
      " 5   ApplicantIncome    308 non-null    int64  \n",
      " 6   CoapplicantIncome  308 non-null    float64\n",
      " 7   LoanAmount         308 non-null    float64\n",
      " 8   Loan_Amount_Term   308 non-null    float64\n",
      " 9   Credit_History     308 non-null    float64\n",
      " 10  Property_Area      308 non-null    int64  \n",
      "dtypes: float64(4), int64(7)\n",
      "memory usage: 28.9 KB\n"
     ]
    }
   ],
   "source": [
    "X.info()"
   ]
  },
  {
   "cell_type": "markdown",
   "id": "a15a911b",
   "metadata": {
    "papermill": {
     "duration": 0.006798,
     "end_time": "2024-03-03T19:39:48.306665",
     "exception": false,
     "start_time": "2024-03-03T19:39:48.299867",
     "status": "completed"
    },
    "tags": []
   },
   "source": [
    "Splitting data set into train and test"
   ]
  },
  {
   "cell_type": "code",
   "execution_count": 16,
   "id": "df8cd459",
   "metadata": {
    "execution": {
     "iopub.execute_input": "2024-03-03T19:39:48.322397Z",
     "iopub.status.busy": "2024-03-03T19:39:48.322043Z",
     "iopub.status.idle": "2024-03-03T19:39:49.438735Z",
     "shell.execute_reply": "2024-03-03T19:39:49.437856Z"
    },
    "papermill": {
     "duration": 1.127255,
     "end_time": "2024-03-03T19:39:49.440941",
     "exception": false,
     "start_time": "2024-03-03T19:39:48.313686",
     "status": "completed"
    },
    "tags": []
   },
   "outputs": [],
   "source": [
    "from sklearn.model_selection import train_test_split\n",
    "X_train,X_test,y_train,y_test = train_test_split(X,y,test_size = 0.2,random_state = 42)\n"
   ]
  },
  {
   "cell_type": "code",
   "execution_count": 17,
   "id": "7147766f",
   "metadata": {
    "execution": {
     "iopub.execute_input": "2024-03-03T19:39:49.455901Z",
     "iopub.status.busy": "2024-03-03T19:39:49.455586Z",
     "iopub.status.idle": "2024-03-03T19:39:49.462180Z",
     "shell.execute_reply": "2024-03-03T19:39:49.460802Z"
    },
    "papermill": {
     "duration": 0.016779,
     "end_time": "2024-03-03T19:39:49.464774",
     "exception": false,
     "start_time": "2024-03-03T19:39:49.447995",
     "status": "completed"
    },
    "tags": []
   },
   "outputs": [
    {
     "data": {
      "text/plain": [
       "((246, 11), (62, 11))"
      ]
     },
     "execution_count": 17,
     "metadata": {},
     "output_type": "execute_result"
    }
   ],
   "source": [
    "X_train.shape, X_test.shape"
   ]
  },
  {
   "cell_type": "markdown",
   "id": "924eb848",
   "metadata": {
    "papermill": {
     "duration": 0.007136,
     "end_time": "2024-03-03T19:39:49.479302",
     "exception": false,
     "start_time": "2024-03-03T19:39:49.472166",
     "status": "completed"
    },
    "tags": []
   },
   "source": [
    "standardise the data (x-mu/s)"
   ]
  },
  {
   "cell_type": "code",
   "execution_count": 18,
   "id": "fde297e3",
   "metadata": {
    "execution": {
     "iopub.execute_input": "2024-03-03T19:39:49.495257Z",
     "iopub.status.busy": "2024-03-03T19:39:49.494929Z",
     "iopub.status.idle": "2024-03-03T19:39:49.506454Z",
     "shell.execute_reply": "2024-03-03T19:39:49.505678Z"
    },
    "papermill": {
     "duration": 0.021823,
     "end_time": "2024-03-03T19:39:49.508440",
     "exception": false,
     "start_time": "2024-03-03T19:39:49.486617",
     "status": "completed"
    },
    "tags": []
   },
   "outputs": [],
   "source": [
    "from sklearn.preprocessing import StandardScaler\n",
    "\n",
    "scaler = StandardScaler()\n",
    "\n",
    "X_train = scaler.fit_transform(X_train)\n",
    "X_test = scaler.fit_transform(X_test)"
   ]
  },
  {
   "cell_type": "markdown",
   "id": "ca52789b",
   "metadata": {
    "papermill": {
     "duration": 0.006811,
     "end_time": "2024-03-03T19:39:49.522545",
     "exception": false,
     "start_time": "2024-03-03T19:39:49.515734",
     "status": "completed"
    },
    "tags": []
   },
   "source": [
    "Model decision tree classifier"
   ]
  },
  {
   "cell_type": "code",
   "execution_count": 19,
   "id": "331ed99e",
   "metadata": {
    "execution": {
     "iopub.execute_input": "2024-03-03T19:39:49.538906Z",
     "iopub.status.busy": "2024-03-03T19:39:49.538002Z",
     "iopub.status.idle": "2024-03-03T19:39:49.782363Z",
     "shell.execute_reply": "2024-03-03T19:39:49.781279Z"
    },
    "papermill": {
     "duration": 0.255059,
     "end_time": "2024-03-03T19:39:49.784727",
     "exception": false,
     "start_time": "2024-03-03T19:39:49.529668",
     "status": "completed"
    },
    "tags": []
   },
   "outputs": [],
   "source": [
    "from sklearn.tree import DecisionTreeClassifier\n",
    "from sklearn.metrics import accuracy_score"
   ]
  },
  {
   "cell_type": "code",
   "execution_count": 20,
   "id": "fdbb1bdf",
   "metadata": {
    "execution": {
     "iopub.execute_input": "2024-03-03T19:39:49.800095Z",
     "iopub.status.busy": "2024-03-03T19:39:49.799795Z",
     "iopub.status.idle": "2024-03-03T19:39:49.803855Z",
     "shell.execute_reply": "2024-03-03T19:39:49.803106Z"
    },
    "papermill": {
     "duration": 0.013565,
     "end_time": "2024-03-03T19:39:49.805461",
     "exception": false,
     "start_time": "2024-03-03T19:39:49.791896",
     "status": "completed"
    },
    "tags": []
   },
   "outputs": [],
   "source": [
    "Model = DecisionTreeClassifier(max_depth = 3,min_samples_leaf = 32)"
   ]
  },
  {
   "cell_type": "code",
   "execution_count": 21,
   "id": "d64543f0",
   "metadata": {
    "execution": {
     "iopub.execute_input": "2024-03-03T19:39:49.821553Z",
     "iopub.status.busy": "2024-03-03T19:39:49.820648Z",
     "iopub.status.idle": "2024-03-03T19:39:49.831494Z",
     "shell.execute_reply": "2024-03-03T19:39:49.830374Z"
    },
    "papermill": {
     "duration": 0.020919,
     "end_time": "2024-03-03T19:39:49.833895",
     "exception": false,
     "start_time": "2024-03-03T19:39:49.812976",
     "status": "completed"
    },
    "tags": []
   },
   "outputs": [
    {
     "data": {
      "text/html": [
       "<style>#sk-container-id-1 {color: black;background-color: white;}#sk-container-id-1 pre{padding: 0;}#sk-container-id-1 div.sk-toggleable {background-color: white;}#sk-container-id-1 label.sk-toggleable__label {cursor: pointer;display: block;width: 100%;margin-bottom: 0;padding: 0.3em;box-sizing: border-box;text-align: center;}#sk-container-id-1 label.sk-toggleable__label-arrow:before {content: \"▸\";float: left;margin-right: 0.25em;color: #696969;}#sk-container-id-1 label.sk-toggleable__label-arrow:hover:before {color: black;}#sk-container-id-1 div.sk-estimator:hover label.sk-toggleable__label-arrow:before {color: black;}#sk-container-id-1 div.sk-toggleable__content {max-height: 0;max-width: 0;overflow: hidden;text-align: left;background-color: #f0f8ff;}#sk-container-id-1 div.sk-toggleable__content pre {margin: 0.2em;color: black;border-radius: 0.25em;background-color: #f0f8ff;}#sk-container-id-1 input.sk-toggleable__control:checked~div.sk-toggleable__content {max-height: 200px;max-width: 100%;overflow: auto;}#sk-container-id-1 input.sk-toggleable__control:checked~label.sk-toggleable__label-arrow:before {content: \"▾\";}#sk-container-id-1 div.sk-estimator input.sk-toggleable__control:checked~label.sk-toggleable__label {background-color: #d4ebff;}#sk-container-id-1 div.sk-label input.sk-toggleable__control:checked~label.sk-toggleable__label {background-color: #d4ebff;}#sk-container-id-1 input.sk-hidden--visually {border: 0;clip: rect(1px 1px 1px 1px);clip: rect(1px, 1px, 1px, 1px);height: 1px;margin: -1px;overflow: hidden;padding: 0;position: absolute;width: 1px;}#sk-container-id-1 div.sk-estimator {font-family: monospace;background-color: #f0f8ff;border: 1px dotted black;border-radius: 0.25em;box-sizing: border-box;margin-bottom: 0.5em;}#sk-container-id-1 div.sk-estimator:hover {background-color: #d4ebff;}#sk-container-id-1 div.sk-parallel-item::after {content: \"\";width: 100%;border-bottom: 1px solid gray;flex-grow: 1;}#sk-container-id-1 div.sk-label:hover label.sk-toggleable__label {background-color: #d4ebff;}#sk-container-id-1 div.sk-serial::before {content: \"\";position: absolute;border-left: 1px solid gray;box-sizing: border-box;top: 0;bottom: 0;left: 50%;z-index: 0;}#sk-container-id-1 div.sk-serial {display: flex;flex-direction: column;align-items: center;background-color: white;padding-right: 0.2em;padding-left: 0.2em;position: relative;}#sk-container-id-1 div.sk-item {position: relative;z-index: 1;}#sk-container-id-1 div.sk-parallel {display: flex;align-items: stretch;justify-content: center;background-color: white;position: relative;}#sk-container-id-1 div.sk-item::before, #sk-container-id-1 div.sk-parallel-item::before {content: \"\";position: absolute;border-left: 1px solid gray;box-sizing: border-box;top: 0;bottom: 0;left: 50%;z-index: -1;}#sk-container-id-1 div.sk-parallel-item {display: flex;flex-direction: column;z-index: 1;position: relative;background-color: white;}#sk-container-id-1 div.sk-parallel-item:first-child::after {align-self: flex-end;width: 50%;}#sk-container-id-1 div.sk-parallel-item:last-child::after {align-self: flex-start;width: 50%;}#sk-container-id-1 div.sk-parallel-item:only-child::after {width: 0;}#sk-container-id-1 div.sk-dashed-wrapped {border: 1px dashed gray;margin: 0 0.4em 0.5em 0.4em;box-sizing: border-box;padding-bottom: 0.4em;background-color: white;}#sk-container-id-1 div.sk-label label {font-family: monospace;font-weight: bold;display: inline-block;line-height: 1.2em;}#sk-container-id-1 div.sk-label-container {text-align: center;}#sk-container-id-1 div.sk-container {/* jupyter's `normalize.less` sets `[hidden] { display: none; }` but bootstrap.min.css set `[hidden] { display: none !important; }` so we also need the `!important` here to be able to override the default hidden behavior on the sphinx rendered scikit-learn.org. See: https://github.com/scikit-learn/scikit-learn/issues/21755 */display: inline-block !important;position: relative;}#sk-container-id-1 div.sk-text-repr-fallback {display: none;}</style><div id=\"sk-container-id-1\" class=\"sk-top-container\"><div class=\"sk-text-repr-fallback\"><pre>DecisionTreeClassifier(max_depth=3, min_samples_leaf=32)</pre><b>In a Jupyter environment, please rerun this cell to show the HTML representation or trust the notebook. <br />On GitHub, the HTML representation is unable to render, please try loading this page with nbviewer.org.</b></div><div class=\"sk-container\" hidden><div class=\"sk-item\"><div class=\"sk-estimator sk-toggleable\"><input class=\"sk-toggleable__control sk-hidden--visually\" id=\"sk-estimator-id-1\" type=\"checkbox\" checked><label for=\"sk-estimator-id-1\" class=\"sk-toggleable__label sk-toggleable__label-arrow\">DecisionTreeClassifier</label><div class=\"sk-toggleable__content\"><pre>DecisionTreeClassifier(max_depth=3, min_samples_leaf=32)</pre></div></div></div></div></div>"
      ],
      "text/plain": [
       "DecisionTreeClassifier(max_depth=3, min_samples_leaf=32)"
      ]
     },
     "execution_count": 21,
     "metadata": {},
     "output_type": "execute_result"
    }
   ],
   "source": [
    "Model.fit(X_train,y_train)"
   ]
  },
  {
   "cell_type": "markdown",
   "id": "ad0b3eda",
   "metadata": {
    "papermill": {
     "duration": 0.006709,
     "end_time": "2024-03-03T19:39:49.848005",
     "exception": false,
     "start_time": "2024-03-03T19:39:49.841296",
     "status": "completed"
    },
    "tags": []
   },
   "source": [
    "Testing part"
   ]
  },
  {
   "cell_type": "code",
   "execution_count": 22,
   "id": "165762c3",
   "metadata": {
    "execution": {
     "iopub.execute_input": "2024-03-03T19:39:49.863277Z",
     "iopub.status.busy": "2024-03-03T19:39:49.862937Z",
     "iopub.status.idle": "2024-03-03T19:39:49.868065Z",
     "shell.execute_reply": "2024-03-03T19:39:49.866976Z"
    },
    "papermill": {
     "duration": 0.015544,
     "end_time": "2024-03-03T19:39:49.870353",
     "exception": false,
     "start_time": "2024-03-03T19:39:49.854809",
     "status": "completed"
    },
    "tags": []
   },
   "outputs": [],
   "source": [
    "y_pred = Model.predict(X_test)"
   ]
  },
  {
   "cell_type": "code",
   "execution_count": 23,
   "id": "e681e687",
   "metadata": {
    "execution": {
     "iopub.execute_input": "2024-03-03T19:39:49.887112Z",
     "iopub.status.busy": "2024-03-03T19:39:49.886777Z",
     "iopub.status.idle": "2024-03-03T19:39:49.892556Z",
     "shell.execute_reply": "2024-03-03T19:39:49.891570Z"
    },
    "papermill": {
     "duration": 0.016127,
     "end_time": "2024-03-03T19:39:49.894282",
     "exception": false,
     "start_time": "2024-03-03T19:39:49.878155",
     "status": "completed"
    },
    "tags": []
   },
   "outputs": [
    {
     "name": "stdout",
     "output_type": "stream",
     "text": [
      "accuracy score: 0.8064516129032258\n"
     ]
    }
   ],
   "source": [
    "accuracy = accuracy_score(y_test,y_pred)\n",
    "print(f\"accuracy score: {accuracy}\")"
   ]
  }
 ],
 "metadata": {
  "kaggle": {
   "accelerator": "none",
   "dataSources": [
    {
     "datasetId": 4390452,
     "sourceId": 7539897,
     "sourceType": "datasetVersion"
    }
   ],
   "dockerImageVersionId": 30664,
   "isGpuEnabled": false,
   "isInternetEnabled": false,
   "language": "python",
   "sourceType": "notebook"
  },
  "kernelspec": {
   "display_name": "Python 3",
   "language": "python",
   "name": "python3"
  },
  "language_info": {
   "codemirror_mode": {
    "name": "ipython",
    "version": 3
   },
   "file_extension": ".py",
   "mimetype": "text/x-python",
   "name": "python",
   "nbconvert_exporter": "python",
   "pygments_lexer": "ipython3",
   "version": "3.10.13"
  },
  "papermill": {
   "default_parameters": {},
   "duration": 5.673448,
   "end_time": "2024-03-03T19:39:50.420737",
   "environment_variables": {},
   "exception": null,
   "input_path": "__notebook__.ipynb",
   "output_path": "__notebook__.ipynb",
   "parameters": {},
   "start_time": "2024-03-03T19:39:44.747289",
   "version": "2.5.0"
  }
 },
 "nbformat": 4,
 "nbformat_minor": 5
}
