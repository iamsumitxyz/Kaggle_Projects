{
 "cells": [
  {
   "cell_type": "code",
   "execution_count": 1,
   "id": "c30d7cc8",
   "metadata": {
    "_cell_guid": "b1076dfc-b9ad-4769-8c92-a6c4dae69d19",
    "_uuid": "8f2839f25d086af736a60e9eeb907d3b93b6e0e5",
    "execution": {
     "iopub.execute_input": "2024-03-04T16:16:37.833925Z",
     "iopub.status.busy": "2024-03-04T16:16:37.832883Z",
     "iopub.status.idle": "2024-03-04T16:16:38.933854Z",
     "shell.execute_reply": "2024-03-04T16:16:38.930706Z"
    },
    "papermill": {
     "duration": 1.117792,
     "end_time": "2024-03-04T16:16:38.937343",
     "exception": false,
     "start_time": "2024-03-04T16:16:37.819551",
     "status": "completed"
    },
    "tags": []
   },
   "outputs": [
    {
     "name": "stdout",
     "output_type": "stream",
     "text": [
      "/kaggle/input/student-score/Data-RF.xlsx\n"
     ]
    }
   ],
   "source": [
    "# This Python 3 environment comes with many helpful analytics libraries installed\n",
    "# It is defined by the kaggle/python Docker image: https://github.com/kaggle/docker-python\n",
    "# For example, here's several helpful packages to load\n",
    "\n",
    "import numpy as np # linear algebra\n",
    "import pandas as pd # data processing, CSV file I/O (e.g. pd.read_csv)\n",
    "\n",
    "# Input data files are available in the read-only \"../input/\" directory\n",
    "# For example, running this (by clicking run or pressing Shift+Enter) will list all files under the input directory\n",
    "\n",
    "import os\n",
    "for dirname, _, filenames in os.walk('/kaggle/input'):\n",
    "    for filename in filenames:\n",
    "        print(os.path.join(dirname, filename))\n",
    "\n",
    "# You can write up to 20GB to the current directory (/kaggle/working/) that gets preserved as output when you create a version using \"Save & Run All\" \n",
    "# You can also write temporary files to /kaggle/temp/, but they won't be saved outside of the current session"
   ]
  },
  {
   "cell_type": "code",
   "execution_count": 2,
   "id": "ea3b5916",
   "metadata": {
    "execution": {
     "iopub.execute_input": "2024-03-04T16:16:38.960601Z",
     "iopub.status.busy": "2024-03-04T16:16:38.959931Z",
     "iopub.status.idle": "2024-03-04T16:16:39.519572Z",
     "shell.execute_reply": "2024-03-04T16:16:39.518306Z"
    },
    "papermill": {
     "duration": 0.574591,
     "end_time": "2024-03-04T16:16:39.522597",
     "exception": false,
     "start_time": "2024-03-04T16:16:38.948006",
     "status": "completed"
    },
    "tags": []
   },
   "outputs": [],
   "source": [
    "df = pd.read_excel(\"/kaggle/input/student-score/Data-RF.xlsx\")"
   ]
  },
  {
   "cell_type": "code",
   "execution_count": 3,
   "id": "1d24821d",
   "metadata": {
    "execution": {
     "iopub.execute_input": "2024-03-04T16:16:39.545887Z",
     "iopub.status.busy": "2024-03-04T16:16:39.544602Z",
     "iopub.status.idle": "2024-03-04T16:16:39.571744Z",
     "shell.execute_reply": "2024-03-04T16:16:39.570639Z"
    },
    "papermill": {
     "duration": 0.04165,
     "end_time": "2024-03-04T16:16:39.574289",
     "exception": false,
     "start_time": "2024-03-04T16:16:39.532639",
     "status": "completed"
    },
    "tags": []
   },
   "outputs": [
    {
     "data": {
      "text/html": [
       "<div>\n",
       "<style scoped>\n",
       "    .dataframe tbody tr th:only-of-type {\n",
       "        vertical-align: middle;\n",
       "    }\n",
       "\n",
       "    .dataframe tbody tr th {\n",
       "        vertical-align: top;\n",
       "    }\n",
       "\n",
       "    .dataframe thead th {\n",
       "        text-align: right;\n",
       "    }\n",
       "</style>\n",
       "<table border=\"1\" class=\"dataframe\">\n",
       "  <thead>\n",
       "    <tr style=\"text-align: right;\">\n",
       "      <th></th>\n",
       "      <th>Lab-Test1(30)</th>\n",
       "      <th>Lab-Test2(24)</th>\n",
       "      <th>Midsem Test (90)</th>\n",
       "      <th>Gender</th>\n",
       "      <th>Attendance</th>\n",
       "      <th>Grade</th>\n",
       "    </tr>\n",
       "  </thead>\n",
       "  <tbody>\n",
       "    <tr>\n",
       "      <th>0</th>\n",
       "      <td>13.00</td>\n",
       "      <td>24</td>\n",
       "      <td>66.0</td>\n",
       "      <td>Male</td>\n",
       "      <td>High</td>\n",
       "      <td>A</td>\n",
       "    </tr>\n",
       "    <tr>\n",
       "      <th>1</th>\n",
       "      <td>15.00</td>\n",
       "      <td>24</td>\n",
       "      <td>67.0</td>\n",
       "      <td>Female</td>\n",
       "      <td>High</td>\n",
       "      <td>A</td>\n",
       "    </tr>\n",
       "    <tr>\n",
       "      <th>2</th>\n",
       "      <td>5.25</td>\n",
       "      <td>24</td>\n",
       "      <td>45.0</td>\n",
       "      <td>Male</td>\n",
       "      <td>High</td>\n",
       "      <td>B-</td>\n",
       "    </tr>\n",
       "    <tr>\n",
       "      <th>3</th>\n",
       "      <td>2.75</td>\n",
       "      <td>19</td>\n",
       "      <td>34.0</td>\n",
       "      <td>Male</td>\n",
       "      <td>High</td>\n",
       "      <td>C-</td>\n",
       "    </tr>\n",
       "    <tr>\n",
       "      <th>4</th>\n",
       "      <td>7.25</td>\n",
       "      <td>24</td>\n",
       "      <td>30.0</td>\n",
       "      <td>Male</td>\n",
       "      <td>High</td>\n",
       "      <td>C-</td>\n",
       "    </tr>\n",
       "  </tbody>\n",
       "</table>\n",
       "</div>"
      ],
      "text/plain": [
       "   Lab-Test1(30)  Lab-Test2(24)  Midsem Test (90)  Gender Attendance Grade\n",
       "0          13.00             24              66.0    Male       High     A\n",
       "1          15.00             24              67.0  Female       High     A\n",
       "2           5.25             24              45.0    Male       High    B-\n",
       "3           2.75             19              34.0    Male       High    C-\n",
       "4           7.25             24              30.0    Male       High    C-"
      ]
     },
     "execution_count": 3,
     "metadata": {},
     "output_type": "execute_result"
    }
   ],
   "source": [
    "df.head()\n"
   ]
  },
  {
   "cell_type": "code",
   "execution_count": 4,
   "id": "3f0ab86d",
   "metadata": {
    "execution": {
     "iopub.execute_input": "2024-03-04T16:16:39.597964Z",
     "iopub.status.busy": "2024-03-04T16:16:39.597070Z",
     "iopub.status.idle": "2024-03-04T16:16:39.604203Z",
     "shell.execute_reply": "2024-03-04T16:16:39.602974Z"
    },
    "papermill": {
     "duration": 0.022014,
     "end_time": "2024-03-04T16:16:39.606796",
     "exception": false,
     "start_time": "2024-03-04T16:16:39.584782",
     "status": "completed"
    },
    "tags": []
   },
   "outputs": [
    {
     "data": {
      "text/plain": [
       "(500, 6)"
      ]
     },
     "execution_count": 4,
     "metadata": {},
     "output_type": "execute_result"
    }
   ],
   "source": [
    "df.shape\n"
   ]
  },
  {
   "cell_type": "code",
   "execution_count": 5,
   "id": "eab17e17",
   "metadata": {
    "execution": {
     "iopub.execute_input": "2024-03-04T16:16:39.630221Z",
     "iopub.status.busy": "2024-03-04T16:16:39.629389Z",
     "iopub.status.idle": "2024-03-04T16:16:39.661084Z",
     "shell.execute_reply": "2024-03-04T16:16:39.658908Z"
    },
    "papermill": {
     "duration": 0.047194,
     "end_time": "2024-03-04T16:16:39.664240",
     "exception": false,
     "start_time": "2024-03-04T16:16:39.617046",
     "status": "completed"
    },
    "tags": []
   },
   "outputs": [
    {
     "name": "stdout",
     "output_type": "stream",
     "text": [
      "<class 'pandas.core.frame.DataFrame'>\n",
      "RangeIndex: 500 entries, 0 to 499\n",
      "Data columns (total 6 columns):\n",
      " #   Column            Non-Null Count  Dtype  \n",
      "---  ------            --------------  -----  \n",
      " 0   Lab-Test1(30)     500 non-null    float64\n",
      " 1   Lab-Test2(24)     500 non-null    int64  \n",
      " 2   Midsem Test (90)  500 non-null    float64\n",
      " 3   Gender            500 non-null    object \n",
      " 4   Attendance        500 non-null    object \n",
      " 5   Grade             500 non-null    object \n",
      "dtypes: float64(2), int64(1), object(3)\n",
      "memory usage: 23.6+ KB\n"
     ]
    }
   ],
   "source": [
    "df.info()"
   ]
  },
  {
   "cell_type": "code",
   "execution_count": 6,
   "id": "85567b2c",
   "metadata": {
    "execution": {
     "iopub.execute_input": "2024-03-04T16:16:39.688057Z",
     "iopub.status.busy": "2024-03-04T16:16:39.687175Z",
     "iopub.status.idle": "2024-03-04T16:16:39.696489Z",
     "shell.execute_reply": "2024-03-04T16:16:39.695566Z"
    },
    "papermill": {
     "duration": 0.023826,
     "end_time": "2024-03-04T16:16:39.698851",
     "exception": false,
     "start_time": "2024-03-04T16:16:39.675025",
     "status": "completed"
    },
    "tags": []
   },
   "outputs": [
    {
     "data": {
      "text/plain": [
       "Lab-Test1(30)       0\n",
       "Lab-Test2(24)       0\n",
       "Midsem Test (90)    0\n",
       "Gender              0\n",
       "Attendance          0\n",
       "Grade               0\n",
       "dtype: int64"
      ]
     },
     "execution_count": 6,
     "metadata": {},
     "output_type": "execute_result"
    }
   ],
   "source": [
    "df.isnull().sum()"
   ]
  },
  {
   "cell_type": "code",
   "execution_count": 7,
   "id": "7f08f074",
   "metadata": {
    "execution": {
     "iopub.execute_input": "2024-03-04T16:16:39.722182Z",
     "iopub.status.busy": "2024-03-04T16:16:39.721694Z",
     "iopub.status.idle": "2024-03-04T16:16:39.729235Z",
     "shell.execute_reply": "2024-03-04T16:16:39.728332Z"
    },
    "papermill": {
     "duration": 0.022169,
     "end_time": "2024-03-04T16:16:39.731480",
     "exception": false,
     "start_time": "2024-03-04T16:16:39.709311",
     "status": "completed"
    },
    "tags": []
   },
   "outputs": [
    {
     "data": {
      "text/plain": [
       "3"
      ]
     },
     "execution_count": 7,
     "metadata": {},
     "output_type": "execute_result"
    }
   ],
   "source": [
    "df['Attendance'].nunique()"
   ]
  },
  {
   "cell_type": "code",
   "execution_count": 8,
   "id": "97903b1c",
   "metadata": {
    "execution": {
     "iopub.execute_input": "2024-03-04T16:16:39.756201Z",
     "iopub.status.busy": "2024-03-04T16:16:39.755394Z",
     "iopub.status.idle": "2024-03-04T16:16:39.761984Z",
     "shell.execute_reply": "2024-03-04T16:16:39.760927Z"
    },
    "papermill": {
     "duration": 0.021335,
     "end_time": "2024-03-04T16:16:39.764385",
     "exception": false,
     "start_time": "2024-03-04T16:16:39.743050",
     "status": "completed"
    },
    "tags": []
   },
   "outputs": [
    {
     "name": "stdout",
     "output_type": "stream",
     "text": [
      "['Male' 'Female' 'Female ' 'Male ']\n"
     ]
    }
   ],
   "source": [
    "df['Gender'].nunique()\n",
    "unique_values = df['Gender'].unique()\n",
    "print(unique_values)\n",
    "\n"
   ]
  },
  {
   "cell_type": "code",
   "execution_count": 9,
   "id": "7c0eb84c",
   "metadata": {
    "execution": {
     "iopub.execute_input": "2024-03-04T16:16:39.788958Z",
     "iopub.status.busy": "2024-03-04T16:16:39.788120Z",
     "iopub.status.idle": "2024-03-04T16:16:39.795496Z",
     "shell.execute_reply": "2024-03-04T16:16:39.794016Z"
    },
    "papermill": {
     "duration": 0.023062,
     "end_time": "2024-03-04T16:16:39.798474",
     "exception": false,
     "start_time": "2024-03-04T16:16:39.775412",
     "status": "completed"
    },
    "tags": []
   },
   "outputs": [],
   "source": [
    "df['Gender'] = df['Gender'].replace({'Male ': 'Male', 'Female ': 'Female'})"
   ]
  },
  {
   "cell_type": "code",
   "execution_count": 10,
   "id": "5b498c35",
   "metadata": {
    "execution": {
     "iopub.execute_input": "2024-03-04T16:16:39.822505Z",
     "iopub.status.busy": "2024-03-04T16:16:39.822000Z",
     "iopub.status.idle": "2024-03-04T16:16:39.831487Z",
     "shell.execute_reply": "2024-03-04T16:16:39.830216Z"
    },
    "papermill": {
     "duration": 0.025753,
     "end_time": "2024-03-04T16:16:39.834877",
     "exception": false,
     "start_time": "2024-03-04T16:16:39.809124",
     "status": "completed"
    },
    "tags": []
   },
   "outputs": [
    {
     "data": {
      "text/plain": [
       "2"
      ]
     },
     "execution_count": 10,
     "metadata": {},
     "output_type": "execute_result"
    }
   ],
   "source": [
    "df['Gender'].nunique()"
   ]
  },
  {
   "cell_type": "code",
   "execution_count": 11,
   "id": "b057e8e8",
   "metadata": {
    "execution": {
     "iopub.execute_input": "2024-03-04T16:16:39.863309Z",
     "iopub.status.busy": "2024-03-04T16:16:39.862318Z",
     "iopub.status.idle": "2024-03-04T16:16:39.870231Z",
     "shell.execute_reply": "2024-03-04T16:16:39.869178Z"
    },
    "papermill": {
     "duration": 0.026375,
     "end_time": "2024-03-04T16:16:39.873293",
     "exception": false,
     "start_time": "2024-03-04T16:16:39.846918",
     "status": "completed"
    },
    "tags": []
   },
   "outputs": [],
   "source": [
    "def cat_to_num(df,var):\n",
    "    for i in var:\n",
    "        unique_values = df[i].unique()\n",
    "        df[i] = df[i].replace(unique_values,[0,1])\n",
    "    for i in ['Attendance']:\n",
    "        unique_values = df[i].unique()\n",
    "        df[i] = df[i].replace(unique_values,[2,1,0])\n",
    "    \n",
    "    \n",
    "    "
   ]
  },
  {
   "cell_type": "code",
   "execution_count": 12,
   "id": "2aa0aa6a",
   "metadata": {
    "execution": {
     "iopub.execute_input": "2024-03-04T16:16:39.901046Z",
     "iopub.status.busy": "2024-03-04T16:16:39.900124Z",
     "iopub.status.idle": "2024-03-04T16:16:39.910917Z",
     "shell.execute_reply": "2024-03-04T16:16:39.909736Z"
    },
    "papermill": {
     "duration": 0.028075,
     "end_time": "2024-03-04T16:16:39.913933",
     "exception": false,
     "start_time": "2024-03-04T16:16:39.885858",
     "status": "completed"
    },
    "tags": []
   },
   "outputs": [
    {
     "name": "stderr",
     "output_type": "stream",
     "text": [
      "/tmp/ipykernel_18/199909535.py:4: FutureWarning: Downcasting behavior in `replace` is deprecated and will be removed in a future version. To retain the old behavior, explicitly call `result.infer_objects(copy=False)`. To opt-in to the future behavior, set `pd.set_option('future.no_silent_downcasting', True)`\n",
      "  df[i] = df[i].replace(unique_values,[0,1])\n",
      "/tmp/ipykernel_18/199909535.py:7: FutureWarning: Downcasting behavior in `replace` is deprecated and will be removed in a future version. To retain the old behavior, explicitly call `result.infer_objects(copy=False)`. To opt-in to the future behavior, set `pd.set_option('future.no_silent_downcasting', True)`\n",
      "  df[i] = df[i].replace(unique_values,[2,1,0])\n"
     ]
    }
   ],
   "source": [
    "var = ['Gender']\n",
    "cat_to_num(df,var)"
   ]
  },
  {
   "cell_type": "code",
   "execution_count": 13,
   "id": "ae88ed3c",
   "metadata": {
    "execution": {
     "iopub.execute_input": "2024-03-04T16:16:39.938758Z",
     "iopub.status.busy": "2024-03-04T16:16:39.938033Z",
     "iopub.status.idle": "2024-03-04T16:16:39.954003Z",
     "shell.execute_reply": "2024-03-04T16:16:39.953057Z"
    },
    "papermill": {
     "duration": 0.031168,
     "end_time": "2024-03-04T16:16:39.956287",
     "exception": false,
     "start_time": "2024-03-04T16:16:39.925119",
     "status": "completed"
    },
    "tags": []
   },
   "outputs": [
    {
     "data": {
      "text/html": [
       "<div>\n",
       "<style scoped>\n",
       "    .dataframe tbody tr th:only-of-type {\n",
       "        vertical-align: middle;\n",
       "    }\n",
       "\n",
       "    .dataframe tbody tr th {\n",
       "        vertical-align: top;\n",
       "    }\n",
       "\n",
       "    .dataframe thead th {\n",
       "        text-align: right;\n",
       "    }\n",
       "</style>\n",
       "<table border=\"1\" class=\"dataframe\">\n",
       "  <thead>\n",
       "    <tr style=\"text-align: right;\">\n",
       "      <th></th>\n",
       "      <th>Lab-Test1(30)</th>\n",
       "      <th>Lab-Test2(24)</th>\n",
       "      <th>Midsem Test (90)</th>\n",
       "      <th>Gender</th>\n",
       "      <th>Attendance</th>\n",
       "      <th>Grade</th>\n",
       "    </tr>\n",
       "  </thead>\n",
       "  <tbody>\n",
       "    <tr>\n",
       "      <th>0</th>\n",
       "      <td>13.00</td>\n",
       "      <td>24</td>\n",
       "      <td>66.0</td>\n",
       "      <td>0</td>\n",
       "      <td>2</td>\n",
       "      <td>A</td>\n",
       "    </tr>\n",
       "    <tr>\n",
       "      <th>1</th>\n",
       "      <td>15.00</td>\n",
       "      <td>24</td>\n",
       "      <td>67.0</td>\n",
       "      <td>1</td>\n",
       "      <td>2</td>\n",
       "      <td>A</td>\n",
       "    </tr>\n",
       "    <tr>\n",
       "      <th>2</th>\n",
       "      <td>5.25</td>\n",
       "      <td>24</td>\n",
       "      <td>45.0</td>\n",
       "      <td>0</td>\n",
       "      <td>2</td>\n",
       "      <td>B-</td>\n",
       "    </tr>\n",
       "    <tr>\n",
       "      <th>3</th>\n",
       "      <td>2.75</td>\n",
       "      <td>19</td>\n",
       "      <td>34.0</td>\n",
       "      <td>0</td>\n",
       "      <td>2</td>\n",
       "      <td>C-</td>\n",
       "    </tr>\n",
       "    <tr>\n",
       "      <th>4</th>\n",
       "      <td>7.25</td>\n",
       "      <td>24</td>\n",
       "      <td>30.0</td>\n",
       "      <td>0</td>\n",
       "      <td>2</td>\n",
       "      <td>C-</td>\n",
       "    </tr>\n",
       "  </tbody>\n",
       "</table>\n",
       "</div>"
      ],
      "text/plain": [
       "   Lab-Test1(30)  Lab-Test2(24)  Midsem Test (90)  Gender  Attendance Grade\n",
       "0          13.00             24              66.0       0           2     A\n",
       "1          15.00             24              67.0       1           2     A\n",
       "2           5.25             24              45.0       0           2    B-\n",
       "3           2.75             19              34.0       0           2    C-\n",
       "4           7.25             24              30.0       0           2    C-"
      ]
     },
     "execution_count": 13,
     "metadata": {},
     "output_type": "execute_result"
    }
   ],
   "source": [
    "df.head()"
   ]
  },
  {
   "cell_type": "code",
   "execution_count": 14,
   "id": "5724e74a",
   "metadata": {
    "execution": {
     "iopub.execute_input": "2024-03-04T16:16:39.982020Z",
     "iopub.status.busy": "2024-03-04T16:16:39.981048Z",
     "iopub.status.idle": "2024-03-04T16:16:39.991156Z",
     "shell.execute_reply": "2024-03-04T16:16:39.989551Z"
    },
    "papermill": {
     "duration": 0.02629,
     "end_time": "2024-03-04T16:16:39.994222",
     "exception": false,
     "start_time": "2024-03-04T16:16:39.967932",
     "status": "completed"
    },
    "tags": []
   },
   "outputs": [
    {
     "name": "stdout",
     "output_type": "stream",
     "text": [
      "['Male' 'Female' 'Female ' 'Male ']\n"
     ]
    }
   ],
   "source": [
    "unique_value = df['Attendance'].unique()\n",
    "print(unique_values)"
   ]
  },
  {
   "cell_type": "code",
   "execution_count": 15,
   "id": "4eedfb01",
   "metadata": {
    "execution": {
     "iopub.execute_input": "2024-03-04T16:16:40.022012Z",
     "iopub.status.busy": "2024-03-04T16:16:40.021571Z",
     "iopub.status.idle": "2024-03-04T16:16:40.036097Z",
     "shell.execute_reply": "2024-03-04T16:16:40.034624Z"
    },
    "papermill": {
     "duration": 0.030898,
     "end_time": "2024-03-04T16:16:40.039324",
     "exception": false,
     "start_time": "2024-03-04T16:16:40.008426",
     "status": "completed"
    },
    "tags": []
   },
   "outputs": [
    {
     "name": "stdout",
     "output_type": "stream",
     "text": [
      "<class 'pandas.core.frame.DataFrame'>\n",
      "RangeIndex: 500 entries, 0 to 499\n",
      "Data columns (total 6 columns):\n",
      " #   Column            Non-Null Count  Dtype  \n",
      "---  ------            --------------  -----  \n",
      " 0   Lab-Test1(30)     500 non-null    float64\n",
      " 1   Lab-Test2(24)     500 non-null    int64  \n",
      " 2   Midsem Test (90)  500 non-null    float64\n",
      " 3   Gender            500 non-null    int64  \n",
      " 4   Attendance        500 non-null    int64  \n",
      " 5   Grade             500 non-null    object \n",
      "dtypes: float64(2), int64(3), object(1)\n",
      "memory usage: 23.6+ KB\n"
     ]
    }
   ],
   "source": [
    "df.info()"
   ]
  },
  {
   "cell_type": "code",
   "execution_count": 16,
   "id": "957edfbb",
   "metadata": {
    "execution": {
     "iopub.execute_input": "2024-03-04T16:16:40.064395Z",
     "iopub.status.busy": "2024-03-04T16:16:40.063981Z",
     "iopub.status.idle": "2024-03-04T16:16:40.071867Z",
     "shell.execute_reply": "2024-03-04T16:16:40.070284Z"
    },
    "papermill": {
     "duration": 0.023588,
     "end_time": "2024-03-04T16:16:40.074610",
     "exception": false,
     "start_time": "2024-03-04T16:16:40.051022",
     "status": "completed"
    },
    "tags": []
   },
   "outputs": [
    {
     "name": "stdout",
     "output_type": "stream",
     "text": [
      "['A' 'B-' 'C-' 'D' 'B' 'A-' 'C' 'E']\n"
     ]
    }
   ],
   "source": [
    "uni = df['Grade'].unique()\n",
    "print(uni)"
   ]
  },
  {
   "cell_type": "code",
   "execution_count": 17,
   "id": "7c03996d",
   "metadata": {
    "execution": {
     "iopub.execute_input": "2024-03-04T16:16:40.101447Z",
     "iopub.status.busy": "2024-03-04T16:16:40.100858Z",
     "iopub.status.idle": "2024-03-04T16:16:40.111525Z",
     "shell.execute_reply": "2024-03-04T16:16:40.109764Z"
    },
    "papermill": {
     "duration": 0.027986,
     "end_time": "2024-03-04T16:16:40.114736",
     "exception": false,
     "start_time": "2024-03-04T16:16:40.086750",
     "status": "completed"
    },
    "tags": []
   },
   "outputs": [
    {
     "name": "stderr",
     "output_type": "stream",
     "text": [
      "/tmp/ipykernel_18/1560265333.py:2: FutureWarning: Downcasting behavior in `replace` is deprecated and will be removed in a future version. To retain the old behavior, explicitly call `result.infer_objects(copy=False)`. To opt-in to the future behavior, set `pd.set_option('future.no_silent_downcasting', True)`\n",
      "  df['Grade'] = df['Grade'].replace(grade_map)\n"
     ]
    }
   ],
   "source": [
    "grade_map = {\"A\":10,\"A-\":9,\"B\":8,\"B-\":7,\"C\":6,\"C-\":5,\"D\":4,\"E\":2}\n",
    "df['Grade'] = df['Grade'].replace(grade_map)"
   ]
  },
  {
   "cell_type": "code",
   "execution_count": 18,
   "id": "526890b1",
   "metadata": {
    "execution": {
     "iopub.execute_input": "2024-03-04T16:16:40.141240Z",
     "iopub.status.busy": "2024-03-04T16:16:40.140151Z",
     "iopub.status.idle": "2024-03-04T16:16:40.153044Z",
     "shell.execute_reply": "2024-03-04T16:16:40.151210Z"
    },
    "papermill": {
     "duration": 0.029604,
     "end_time": "2024-03-04T16:16:40.156321",
     "exception": false,
     "start_time": "2024-03-04T16:16:40.126717",
     "status": "completed"
    },
    "tags": []
   },
   "outputs": [
    {
     "name": "stdout",
     "output_type": "stream",
     "text": [
      "<class 'pandas.core.frame.DataFrame'>\n",
      "RangeIndex: 500 entries, 0 to 499\n",
      "Data columns (total 6 columns):\n",
      " #   Column            Non-Null Count  Dtype  \n",
      "---  ------            --------------  -----  \n",
      " 0   Lab-Test1(30)     500 non-null    float64\n",
      " 1   Lab-Test2(24)     500 non-null    int64  \n",
      " 2   Midsem Test (90)  500 non-null    float64\n",
      " 3   Gender            500 non-null    int64  \n",
      " 4   Attendance        500 non-null    int64  \n",
      " 5   Grade             500 non-null    int64  \n",
      "dtypes: float64(2), int64(4)\n",
      "memory usage: 23.6 KB\n"
     ]
    }
   ],
   "source": [
    "df.info()"
   ]
  },
  {
   "cell_type": "code",
   "execution_count": 19,
   "id": "ce7790fa",
   "metadata": {
    "execution": {
     "iopub.execute_input": "2024-03-04T16:16:40.183990Z",
     "iopub.status.busy": "2024-03-04T16:16:40.182546Z",
     "iopub.status.idle": "2024-03-04T16:16:40.199583Z",
     "shell.execute_reply": "2024-03-04T16:16:40.198217Z"
    },
    "papermill": {
     "duration": 0.034599,
     "end_time": "2024-03-04T16:16:40.202542",
     "exception": false,
     "start_time": "2024-03-04T16:16:40.167943",
     "status": "completed"
    },
    "tags": []
   },
   "outputs": [
    {
     "data": {
      "text/html": [
       "<div>\n",
       "<style scoped>\n",
       "    .dataframe tbody tr th:only-of-type {\n",
       "        vertical-align: middle;\n",
       "    }\n",
       "\n",
       "    .dataframe tbody tr th {\n",
       "        vertical-align: top;\n",
       "    }\n",
       "\n",
       "    .dataframe thead th {\n",
       "        text-align: right;\n",
       "    }\n",
       "</style>\n",
       "<table border=\"1\" class=\"dataframe\">\n",
       "  <thead>\n",
       "    <tr style=\"text-align: right;\">\n",
       "      <th></th>\n",
       "      <th>Lab-Test1(30)</th>\n",
       "      <th>Lab-Test2(24)</th>\n",
       "      <th>Midsem Test (90)</th>\n",
       "      <th>Gender</th>\n",
       "      <th>Attendance</th>\n",
       "      <th>Grade</th>\n",
       "    </tr>\n",
       "  </thead>\n",
       "  <tbody>\n",
       "    <tr>\n",
       "      <th>0</th>\n",
       "      <td>13.00</td>\n",
       "      <td>24</td>\n",
       "      <td>66.0</td>\n",
       "      <td>0</td>\n",
       "      <td>2</td>\n",
       "      <td>10</td>\n",
       "    </tr>\n",
       "    <tr>\n",
       "      <th>1</th>\n",
       "      <td>15.00</td>\n",
       "      <td>24</td>\n",
       "      <td>67.0</td>\n",
       "      <td>1</td>\n",
       "      <td>2</td>\n",
       "      <td>10</td>\n",
       "    </tr>\n",
       "    <tr>\n",
       "      <th>2</th>\n",
       "      <td>5.25</td>\n",
       "      <td>24</td>\n",
       "      <td>45.0</td>\n",
       "      <td>0</td>\n",
       "      <td>2</td>\n",
       "      <td>7</td>\n",
       "    </tr>\n",
       "    <tr>\n",
       "      <th>3</th>\n",
       "      <td>2.75</td>\n",
       "      <td>19</td>\n",
       "      <td>34.0</td>\n",
       "      <td>0</td>\n",
       "      <td>2</td>\n",
       "      <td>5</td>\n",
       "    </tr>\n",
       "    <tr>\n",
       "      <th>4</th>\n",
       "      <td>7.25</td>\n",
       "      <td>24</td>\n",
       "      <td>30.0</td>\n",
       "      <td>0</td>\n",
       "      <td>2</td>\n",
       "      <td>5</td>\n",
       "    </tr>\n",
       "  </tbody>\n",
       "</table>\n",
       "</div>"
      ],
      "text/plain": [
       "   Lab-Test1(30)  Lab-Test2(24)  Midsem Test (90)  Gender  Attendance  Grade\n",
       "0          13.00             24              66.0       0           2     10\n",
       "1          15.00             24              67.0       1           2     10\n",
       "2           5.25             24              45.0       0           2      7\n",
       "3           2.75             19              34.0       0           2      5\n",
       "4           7.25             24              30.0       0           2      5"
      ]
     },
     "execution_count": 19,
     "metadata": {},
     "output_type": "execute_result"
    }
   ],
   "source": [
    "df.head()"
   ]
  },
  {
   "cell_type": "code",
   "execution_count": 20,
   "id": "a7d95b1e",
   "metadata": {
    "execution": {
     "iopub.execute_input": "2024-03-04T16:16:40.229186Z",
     "iopub.status.busy": "2024-03-04T16:16:40.228689Z",
     "iopub.status.idle": "2024-03-04T16:16:40.240715Z",
     "shell.execute_reply": "2024-03-04T16:16:40.239187Z"
    },
    "papermill": {
     "duration": 0.028583,
     "end_time": "2024-03-04T16:16:40.243499",
     "exception": false,
     "start_time": "2024-03-04T16:16:40.214916",
     "status": "completed"
    },
    "tags": []
   },
   "outputs": [],
   "source": [
    "X = df.drop(['Grade'],axis = 1)\n",
    "y = df['Grade']"
   ]
  },
  {
   "cell_type": "code",
   "execution_count": 21,
   "id": "cbe319bd",
   "metadata": {
    "execution": {
     "iopub.execute_input": "2024-03-04T16:16:40.270276Z",
     "iopub.status.busy": "2024-03-04T16:16:40.269858Z",
     "iopub.status.idle": "2024-03-04T16:16:40.278104Z",
     "shell.execute_reply": "2024-03-04T16:16:40.276731Z"
    },
    "papermill": {
     "duration": 0.024562,
     "end_time": "2024-03-04T16:16:40.280745",
     "exception": false,
     "start_time": "2024-03-04T16:16:40.256183",
     "status": "completed"
    },
    "tags": []
   },
   "outputs": [
    {
     "data": {
      "text/plain": [
       "((500, 5), (500,))"
      ]
     },
     "execution_count": 21,
     "metadata": {},
     "output_type": "execute_result"
    }
   ],
   "source": [
    "X.shape,y.shape"
   ]
  },
  {
   "cell_type": "code",
   "execution_count": 22,
   "id": "8ac94a0a",
   "metadata": {
    "execution": {
     "iopub.execute_input": "2024-03-04T16:16:40.307494Z",
     "iopub.status.busy": "2024-03-04T16:16:40.307103Z",
     "iopub.status.idle": "2024-03-04T16:16:41.959279Z",
     "shell.execute_reply": "2024-03-04T16:16:41.957941Z"
    },
    "papermill": {
     "duration": 1.669089,
     "end_time": "2024-03-04T16:16:41.962244",
     "exception": false,
     "start_time": "2024-03-04T16:16:40.293155",
     "status": "completed"
    },
    "tags": []
   },
   "outputs": [],
   "source": [
    "from sklearn.model_selection import train_test_split\n",
    "X_train,X_test,y_train, y_test = train_test_split(X,y,test_size = 0.3,random_state = 42)\n"
   ]
  },
  {
   "cell_type": "code",
   "execution_count": 23,
   "id": "85cbb09c",
   "metadata": {
    "execution": {
     "iopub.execute_input": "2024-03-04T16:16:41.990123Z",
     "iopub.status.busy": "2024-03-04T16:16:41.989676Z",
     "iopub.status.idle": "2024-03-04T16:16:41.999182Z",
     "shell.execute_reply": "2024-03-04T16:16:41.997947Z"
    },
    "papermill": {
     "duration": 0.026264,
     "end_time": "2024-03-04T16:16:42.001941",
     "exception": false,
     "start_time": "2024-03-04T16:16:41.975677",
     "status": "completed"
    },
    "tags": []
   },
   "outputs": [
    {
     "data": {
      "text/plain": [
       "(350, 5)"
      ]
     },
     "execution_count": 23,
     "metadata": {},
     "output_type": "execute_result"
    }
   ],
   "source": [
    "X_train.shape"
   ]
  },
  {
   "cell_type": "code",
   "execution_count": 24,
   "id": "50698ce8",
   "metadata": {
    "execution": {
     "iopub.execute_input": "2024-03-04T16:16:42.028915Z",
     "iopub.status.busy": "2024-03-04T16:16:42.028393Z",
     "iopub.status.idle": "2024-03-04T16:16:42.308530Z",
     "shell.execute_reply": "2024-03-04T16:16:42.307182Z"
    },
    "papermill": {
     "duration": 0.298158,
     "end_time": "2024-03-04T16:16:42.312522",
     "exception": false,
     "start_time": "2024-03-04T16:16:42.014364",
     "status": "completed"
    },
    "tags": []
   },
   "outputs": [],
   "source": [
    "from sklearn.ensemble import RandomForestClassifier\n",
    "from sklearn.metrics import accuracy_score"
   ]
  },
  {
   "cell_type": "code",
   "execution_count": 25,
   "id": "d2ba8fea",
   "metadata": {
    "execution": {
     "iopub.execute_input": "2024-03-04T16:16:42.341711Z",
     "iopub.status.busy": "2024-03-04T16:16:42.341291Z",
     "iopub.status.idle": "2024-03-04T16:16:42.348143Z",
     "shell.execute_reply": "2024-03-04T16:16:42.346563Z"
    },
    "papermill": {
     "duration": 0.025487,
     "end_time": "2024-03-04T16:16:42.352053",
     "exception": false,
     "start_time": "2024-03-04T16:16:42.326566",
     "status": "completed"
    },
    "tags": []
   },
   "outputs": [],
   "source": [
    "model = RandomForestClassifier(n_estimators = 30,random_state = 0)"
   ]
  },
  {
   "cell_type": "code",
   "execution_count": 26,
   "id": "6c970ee6",
   "metadata": {
    "execution": {
     "iopub.execute_input": "2024-03-04T16:16:42.391408Z",
     "iopub.status.busy": "2024-03-04T16:16:42.390341Z",
     "iopub.status.idle": "2024-03-04T16:16:42.486291Z",
     "shell.execute_reply": "2024-03-04T16:16:42.484896Z"
    },
    "papermill": {
     "duration": 0.119013,
     "end_time": "2024-03-04T16:16:42.491321",
     "exception": false,
     "start_time": "2024-03-04T16:16:42.372308",
     "status": "completed"
    },
    "tags": []
   },
   "outputs": [
    {
     "data": {
      "text/html": [
       "<style>#sk-container-id-1 {color: black;background-color: white;}#sk-container-id-1 pre{padding: 0;}#sk-container-id-1 div.sk-toggleable {background-color: white;}#sk-container-id-1 label.sk-toggleable__label {cursor: pointer;display: block;width: 100%;margin-bottom: 0;padding: 0.3em;box-sizing: border-box;text-align: center;}#sk-container-id-1 label.sk-toggleable__label-arrow:before {content: \"▸\";float: left;margin-right: 0.25em;color: #696969;}#sk-container-id-1 label.sk-toggleable__label-arrow:hover:before {color: black;}#sk-container-id-1 div.sk-estimator:hover label.sk-toggleable__label-arrow:before {color: black;}#sk-container-id-1 div.sk-toggleable__content {max-height: 0;max-width: 0;overflow: hidden;text-align: left;background-color: #f0f8ff;}#sk-container-id-1 div.sk-toggleable__content pre {margin: 0.2em;color: black;border-radius: 0.25em;background-color: #f0f8ff;}#sk-container-id-1 input.sk-toggleable__control:checked~div.sk-toggleable__content {max-height: 200px;max-width: 100%;overflow: auto;}#sk-container-id-1 input.sk-toggleable__control:checked~label.sk-toggleable__label-arrow:before {content: \"▾\";}#sk-container-id-1 div.sk-estimator input.sk-toggleable__control:checked~label.sk-toggleable__label {background-color: #d4ebff;}#sk-container-id-1 div.sk-label input.sk-toggleable__control:checked~label.sk-toggleable__label {background-color: #d4ebff;}#sk-container-id-1 input.sk-hidden--visually {border: 0;clip: rect(1px 1px 1px 1px);clip: rect(1px, 1px, 1px, 1px);height: 1px;margin: -1px;overflow: hidden;padding: 0;position: absolute;width: 1px;}#sk-container-id-1 div.sk-estimator {font-family: monospace;background-color: #f0f8ff;border: 1px dotted black;border-radius: 0.25em;box-sizing: border-box;margin-bottom: 0.5em;}#sk-container-id-1 div.sk-estimator:hover {background-color: #d4ebff;}#sk-container-id-1 div.sk-parallel-item::after {content: \"\";width: 100%;border-bottom: 1px solid gray;flex-grow: 1;}#sk-container-id-1 div.sk-label:hover label.sk-toggleable__label {background-color: #d4ebff;}#sk-container-id-1 div.sk-serial::before {content: \"\";position: absolute;border-left: 1px solid gray;box-sizing: border-box;top: 0;bottom: 0;left: 50%;z-index: 0;}#sk-container-id-1 div.sk-serial {display: flex;flex-direction: column;align-items: center;background-color: white;padding-right: 0.2em;padding-left: 0.2em;position: relative;}#sk-container-id-1 div.sk-item {position: relative;z-index: 1;}#sk-container-id-1 div.sk-parallel {display: flex;align-items: stretch;justify-content: center;background-color: white;position: relative;}#sk-container-id-1 div.sk-item::before, #sk-container-id-1 div.sk-parallel-item::before {content: \"\";position: absolute;border-left: 1px solid gray;box-sizing: border-box;top: 0;bottom: 0;left: 50%;z-index: -1;}#sk-container-id-1 div.sk-parallel-item {display: flex;flex-direction: column;z-index: 1;position: relative;background-color: white;}#sk-container-id-1 div.sk-parallel-item:first-child::after {align-self: flex-end;width: 50%;}#sk-container-id-1 div.sk-parallel-item:last-child::after {align-self: flex-start;width: 50%;}#sk-container-id-1 div.sk-parallel-item:only-child::after {width: 0;}#sk-container-id-1 div.sk-dashed-wrapped {border: 1px dashed gray;margin: 0 0.4em 0.5em 0.4em;box-sizing: border-box;padding-bottom: 0.4em;background-color: white;}#sk-container-id-1 div.sk-label label {font-family: monospace;font-weight: bold;display: inline-block;line-height: 1.2em;}#sk-container-id-1 div.sk-label-container {text-align: center;}#sk-container-id-1 div.sk-container {/* jupyter's `normalize.less` sets `[hidden] { display: none; }` but bootstrap.min.css set `[hidden] { display: none !important; }` so we also need the `!important` here to be able to override the default hidden behavior on the sphinx rendered scikit-learn.org. See: https://github.com/scikit-learn/scikit-learn/issues/21755 */display: inline-block !important;position: relative;}#sk-container-id-1 div.sk-text-repr-fallback {display: none;}</style><div id=\"sk-container-id-1\" class=\"sk-top-container\"><div class=\"sk-text-repr-fallback\"><pre>RandomForestClassifier(n_estimators=30, random_state=0)</pre><b>In a Jupyter environment, please rerun this cell to show the HTML representation or trust the notebook. <br />On GitHub, the HTML representation is unable to render, please try loading this page with nbviewer.org.</b></div><div class=\"sk-container\" hidden><div class=\"sk-item\"><div class=\"sk-estimator sk-toggleable\"><input class=\"sk-toggleable__control sk-hidden--visually\" id=\"sk-estimator-id-1\" type=\"checkbox\" checked><label for=\"sk-estimator-id-1\" class=\"sk-toggleable__label sk-toggleable__label-arrow\">RandomForestClassifier</label><div class=\"sk-toggleable__content\"><pre>RandomForestClassifier(n_estimators=30, random_state=0)</pre></div></div></div></div></div>"
      ],
      "text/plain": [
       "RandomForestClassifier(n_estimators=30, random_state=0)"
      ]
     },
     "execution_count": 26,
     "metadata": {},
     "output_type": "execute_result"
    }
   ],
   "source": [
    "model.fit(X_train,y_train)"
   ]
  },
  {
   "cell_type": "markdown",
   "id": "2ccf4edc",
   "metadata": {
    "papermill": {
     "duration": 0.015667,
     "end_time": "2024-03-04T16:16:42.528996",
     "exception": false,
     "start_time": "2024-03-04T16:16:42.513329",
     "status": "completed"
    },
    "tags": []
   },
   "source": [
    "Prediction"
   ]
  },
  {
   "cell_type": "code",
   "execution_count": 27,
   "id": "66aca23b",
   "metadata": {
    "execution": {
     "iopub.execute_input": "2024-03-04T16:16:42.565419Z",
     "iopub.status.busy": "2024-03-04T16:16:42.564887Z",
     "iopub.status.idle": "2024-03-04T16:16:42.579285Z",
     "shell.execute_reply": "2024-03-04T16:16:42.578182Z"
    },
    "papermill": {
     "duration": 0.038501,
     "end_time": "2024-03-04T16:16:42.582441",
     "exception": false,
     "start_time": "2024-03-04T16:16:42.543940",
     "status": "completed"
    },
    "tags": []
   },
   "outputs": [],
   "source": [
    "y_pred = model.predict(X_test)"
   ]
  },
  {
   "cell_type": "code",
   "execution_count": 28,
   "id": "94d00474",
   "metadata": {
    "execution": {
     "iopub.execute_input": "2024-03-04T16:16:42.614111Z",
     "iopub.status.busy": "2024-03-04T16:16:42.613621Z",
     "iopub.status.idle": "2024-03-04T16:16:42.621239Z",
     "shell.execute_reply": "2024-03-04T16:16:42.620008Z"
    },
    "papermill": {
     "duration": 0.02593,
     "end_time": "2024-03-04T16:16:42.624282",
     "exception": false,
     "start_time": "2024-03-04T16:16:42.598352",
     "status": "completed"
    },
    "tags": []
   },
   "outputs": [
    {
     "name": "stdout",
     "output_type": "stream",
     "text": [
      "accuracy score: 0.8533333333333334\n"
     ]
    }
   ],
   "source": [
    "accuracy = accuracy_score(y_test,y_pred)\n",
    "print(f\"accuracy score: {accuracy}\")"
   ]
  }
 ],
 "metadata": {
  "kaggle": {
   "accelerator": "none",
   "dataSources": [
    {
     "datasetId": 4535226,
     "sourceId": 7755947,
     "sourceType": "datasetVersion"
    }
   ],
   "dockerImageVersionId": 30664,
   "isGpuEnabled": false,
   "isInternetEnabled": false,
   "language": "python",
   "sourceType": "notebook"
  },
  "kernelspec": {
   "display_name": "Python 3",
   "language": "python",
   "name": "python3"
  },
  "language_info": {
   "codemirror_mode": {
    "name": "ipython",
    "version": 3
   },
   "file_extension": ".py",
   "mimetype": "text/x-python",
   "name": "python",
   "nbconvert_exporter": "python",
   "pygments_lexer": "ipython3",
   "version": "3.10.13"
  },
  "papermill": {
   "default_parameters": {},
   "duration": 9.361221,
   "end_time": "2024-03-04T16:16:43.562955",
   "environment_variables": {},
   "exception": null,
   "input_path": "__notebook__.ipynb",
   "output_path": "__notebook__.ipynb",
   "parameters": {},
   "start_time": "2024-03-04T16:16:34.201734",
   "version": "2.5.0"
  }
 },
 "nbformat": 4,
 "nbformat_minor": 5
}
